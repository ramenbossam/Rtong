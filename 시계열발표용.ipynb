{
  "nbformat": 4,
  "nbformat_minor": 0,
  "metadata": {
    "colab": {
      "provenance": [],
      "authorship_tag": "ABX9TyNeEmxbuzqIC1P9NVzo9rwX",
      "include_colab_link": true
    },
    "kernelspec": {
      "name": "python3",
      "display_name": "Python 3"
    },
    "language_info": {
      "name": "python"
    }
  },
  "cells": [
    {
      "cell_type": "markdown",
      "metadata": {
        "id": "view-in-github",
        "colab_type": "text"
      },
      "source": [
        "<a href=\"https://colab.research.google.com/github/ramenbossam/Rtong/blob/main/%EC%8B%9C%EA%B3%84%EC%97%B4%EB%B0%9C%ED%91%9C%EC%9A%A9.ipynb\" target=\"_parent\"><img src=\"https://colab.research.google.com/assets/colab-badge.svg\" alt=\"Open In Colab\"/></a>"
      ]
    },
    {
      "cell_type": "markdown",
      "source": [
        "# 시계열\n",
        "\n",
        "## 시계열 데이터란.\n",
        "### 시간의 흐름에 따라 기록 자료를 뜻하고 이를 분석하는 것을 시계열 분석이라고 함\n",
        "\n",
        "\n",
        "\n",
        "\n",
        "\n",
        "\n",
        "시계열 데이터의 특징."
      ],
      "metadata": {
        "id": "ZQPn0BcgBb9B"
      }
    },
    {
      "cell_type": "markdown",
      "source": [
        "## 시계열 데이터의 예시"
      ],
      "metadata": {
        "id": "bUqhO-YCEj3F"
      }
    },
    {
      "cell_type": "code",
      "source": [
        "pip install nasdaq-data-link"
      ],
      "metadata": {
        "colab": {
          "base_uri": "https://localhost:8080/"
        },
        "id": "ItPxX4gMbokg",
        "outputId": "70f7acb2-2cdf-44b8-e526-9ad93a16da43"
      },
      "execution_count": null,
      "outputs": [
        {
          "output_type": "stream",
          "name": "stdout",
          "text": [
            "Requirement already satisfied: nasdaq-data-link in /usr/local/lib/python3.10/dist-packages (1.0.4)\n",
            "Requirement already satisfied: pandas>=0.14 in /usr/local/lib/python3.10/dist-packages (from nasdaq-data-link) (1.5.3)\n",
            "Requirement already satisfied: numpy>=1.8 in /usr/local/lib/python3.10/dist-packages (from nasdaq-data-link) (1.25.2)\n",
            "Requirement already satisfied: requests>=2.7.0 in /usr/local/lib/python3.10/dist-packages (from nasdaq-data-link) (2.31.0)\n",
            "Requirement already satisfied: inflection>=0.3.1 in /usr/local/lib/python3.10/dist-packages (from nasdaq-data-link) (0.5.1)\n",
            "Requirement already satisfied: python-dateutil in /usr/local/lib/python3.10/dist-packages (from nasdaq-data-link) (2.8.2)\n",
            "Requirement already satisfied: six in /usr/local/lib/python3.10/dist-packages (from nasdaq-data-link) (1.16.0)\n",
            "Requirement already satisfied: more-itertools in /usr/local/lib/python3.10/dist-packages (from nasdaq-data-link) (10.1.0)\n",
            "Requirement already satisfied: pytz>=2020.1 in /usr/local/lib/python3.10/dist-packages (from pandas>=0.14->nasdaq-data-link) (2023.4)\n",
            "Requirement already satisfied: charset-normalizer<4,>=2 in /usr/local/lib/python3.10/dist-packages (from requests>=2.7.0->nasdaq-data-link) (3.3.2)\n",
            "Requirement already satisfied: idna<4,>=2.5 in /usr/local/lib/python3.10/dist-packages (from requests>=2.7.0->nasdaq-data-link) (3.6)\n",
            "Requirement already satisfied: urllib3<3,>=1.21.1 in /usr/local/lib/python3.10/dist-packages (from requests>=2.7.0->nasdaq-data-link) (2.0.7)\n",
            "Requirement already satisfied: certifi>=2017.4.17 in /usr/local/lib/python3.10/dist-packages (from requests>=2.7.0->nasdaq-data-link) (2024.2.2)\n"
          ]
        }
      ]
    },
    {
      "cell_type": "code",
      "source": [
        "import pandas as pd\n",
        "import nasdaqdatalink\n",
        "import seaborn as sns\n",
        "from statsmodels.tsa.seasonal import seasonal_decompose"
      ],
      "metadata": {
        "id": "ZUmXvqOTGJWX"
      },
      "execution_count": null,
      "outputs": []
    },
    {
      "cell_type": "code",
      "source": [],
      "metadata": {
        "id": "hCMZUqGvb5Ec"
      },
      "execution_count": null,
      "outputs": []
    },
    {
      "cell_type": "markdown",
      "source": [
        "## 시계열 데이터의 특징\n",
        "\n",
        "### 정상성\n",
        "\n",
        "정상성:\n",
        "\n",
        "정상성을 띄는 데이터\n",
        "\n",
        "\n"
      ],
      "metadata": {
        "id": "f3LgAbfbEkv6"
      }
    },
    {
      "cell_type": "markdown",
      "source": [
        "### 시계열 분해"
      ],
      "metadata": {
        "id": "hGQkYmAjEqju"
      }
    },
    {
      "cell_type": "markdown",
      "source": [
        "# 시계열 데이터 처리방법\n",
        "\n"
      ],
      "metadata": {
        "id": "39Y9gTzQD4Zv"
      }
    },
    {
      "cell_type": "markdown",
      "source": [
        "# 시계열 분석 모형\n",
        "## 1.AR"
      ],
      "metadata": {
        "id": "mjPfY2stD4o2"
      }
    },
    {
      "cell_type": "markdown",
      "source": [
        "## 2.MA"
      ],
      "metadata": {
        "id": "CMJ0LM0wD41A"
      }
    },
    {
      "cell_type": "markdown",
      "source": [
        "## 3.ARIMA"
      ],
      "metadata": {
        "id": "5EcfqP4QEUsb"
      }
    },
    {
      "cell_type": "markdown",
      "source": [
        "# 추가적인 것들\n",
        "## 그레인저 인과검정."
      ],
      "metadata": {
        "id": "Fw28RbdUEyfE"
      }
    },
    {
      "cell_type": "markdown",
      "source": [
        "## 충격반응함수"
      ],
      "metadata": {
        "id": "X7c74Jc9E4zn"
      }
    },
    {
      "cell_type": "markdown",
      "source": [
        "## 공적분 검정\n"
      ],
      "metadata": {
        "id": "Iln03qEmE6z7"
      }
    }
  ]
}